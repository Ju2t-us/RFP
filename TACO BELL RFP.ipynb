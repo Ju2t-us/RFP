{
 "cells": [
  {
   "cell_type": "code",
   "execution_count": 1,
   "id": "d30c1948",
   "metadata": {},
   "outputs": [],
   "source": [
    "import pandas as pd \n",
    "from sklearn.cluster import KMeans\n",
    "from sklearn.preprocessing import StandardScaler\n",
    "from sklearn.model_selection import train_test_split"
   ]
  },
  {
   "cell_type": "code",
   "execution_count": 2,
   "id": "9fe8aec4",
   "metadata": {},
   "outputs": [
    {
     "name": "stdout",
     "output_type": "stream",
     "text": [
      "<class 'pandas.core.frame.DataFrame'>\n",
      "RangeIndex: 14825 entries, 0 to 14824\n",
      "Data columns (total 8 columns):\n",
      " #   Column                             Non-Null Count  Dtype  \n",
      "---  ------                             --------------  -----  \n",
      " 0   gender                             14825 non-null  object \n",
      " 1   age                                14825 non-null  int64  \n",
      " 2   id                                 14825 non-null  object \n",
      " 3   became_member_on (year month day)  14825 non-null  int64  \n",
      " 4   income                             14825 non-null  float64\n",
      " 5   ever_married                       14825 non-null  object \n",
      " 6   kids                               14825 non-null  int64  \n",
      " 7   home_state                         14825 non-null  object \n",
      "dtypes: float64(1), int64(3), object(4)\n",
      "memory usage: 926.7+ KB\n"
     ]
    }
   ],
   "source": [
    "customers = pd.read_csv(\"customer_profiles.csv\")\n",
    "customers.info()"
   ]
  },
  {
   "cell_type": "code",
   "execution_count": 3,
   "id": "72699048",
   "metadata": {},
   "outputs": [],
   "source": [
    "#WRANGLING THE DATASET \n",
    "# I will be changing Male to the number 1 and female to the number 2 and Other to 3 | Done\n",
    "# I will remove ID since it doesn't have any real relevance to what we are trying to do | Done\n",
    "# I may remove home state or I might just assign numbers to the different states as well depending on how many there are | Done\n",
    "# I will also change the ever_married to column to 1 for yes and 2 for no similar to gender | Done"
   ]
  },
  {
   "cell_type": "code",
   "execution_count": 4,
   "id": "f1896c64",
   "metadata": {},
   "outputs": [],
   "source": [
    "# Wrangling Gender \n",
    "gender_map = {'M': 1, 'F': 2, 'O': 3}\n",
    "\n",
    "# Loop in each row and change the lettered genders to nummbers as designated above\n",
    "for index, row in customers.iterrows():\n",
    "    gender_value = gender_map.get(row['gender'], row['gender'])\n",
    "    customers.at[index, 'gender'] = int(gender_value)\n",
    "\n",
    "# Cast to integers\n",
    "customers['gender'] = customers['gender'].astype(int)"
   ]
  },
  {
   "cell_type": "code",
   "execution_count": 5,
   "id": "4dc17419",
   "metadata": {},
   "outputs": [],
   "source": [
    "customers_w = customers.drop(['home_state', 'id'], axis=1)"
   ]
  },
  {
   "cell_type": "code",
   "execution_count": 6,
   "id": "d481a2a2",
   "metadata": {},
   "outputs": [],
   "source": [
    "customers_w['ever_married'].unique()\n",
    "\n",
    "# Wrangling Marriage \n",
    "gender_map = {'Yes': 1, 'No': 2}\n",
    "\n",
    "for index, row in customers_w.iterrows():\n",
    "    married = gender_map.get(row['ever_married'], row['ever_married'])\n",
    "    customers_w.at[index, 'ever_married'] = int(married)\n",
    "\n",
    "# Cast to integers\n",
    "customers_w['ever_married'] = customers_w['ever_married'].astype(int)"
   ]
  },
  {
   "cell_type": "code",
   "execution_count": 7,
   "id": "3e755ff2",
   "metadata": {},
   "outputs": [
    {
     "name": "stdout",
     "output_type": "stream",
     "text": [
      "<class 'pandas.core.frame.DataFrame'>\n",
      "RangeIndex: 14825 entries, 0 to 14824\n",
      "Data columns (total 6 columns):\n",
      " #   Column                             Non-Null Count  Dtype  \n",
      "---  ------                             --------------  -----  \n",
      " 0   gender                             14825 non-null  int32  \n",
      " 1   age                                14825 non-null  int64  \n",
      " 2   became_member_on (year month day)  14825 non-null  int64  \n",
      " 3   income                             14825 non-null  float64\n",
      " 4   ever_married                       14825 non-null  int32  \n",
      " 5   kids                               14825 non-null  int64  \n",
      "dtypes: float64(1), int32(2), int64(3)\n",
      "memory usage: 579.2 KB\n"
     ]
    }
   ],
   "source": [
    "customers_w.info()"
   ]
  },
  {
   "cell_type": "code",
   "execution_count": 8,
   "id": "450bd49b",
   "metadata": {},
   "outputs": [],
   "source": [
    "#DATA is now wrangled and I will be working with customers_w to make the K means clustering "
   ]
  },
  {
   "cell_type": "code",
   "execution_count": null,
   "id": "22c8e4e0",
   "metadata": {},
   "outputs": [],
   "source": []
  }
 ],
 "metadata": {
  "kernelspec": {
   "display_name": "Python 3 (ipykernel)",
   "language": "python",
   "name": "python3"
  },
  "language_info": {
   "codemirror_mode": {
    "name": "ipython",
    "version": 3
   },
   "file_extension": ".py",
   "mimetype": "text/x-python",
   "name": "python",
   "nbconvert_exporter": "python",
   "pygments_lexer": "ipython3",
   "version": "3.9.13"
  }
 },
 "nbformat": 4,
 "nbformat_minor": 5
}
